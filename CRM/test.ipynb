{
 "cells": [
  {
   "cell_type": "code",
   "execution_count": 3,
   "id": "12bb9d24",
   "metadata": {},
   "outputs": [],
   "source": [
    "df = pd.read_csv(\"df_text_english.csv\")"
   ]
  },
  {
   "cell_type": "code",
   "execution_count": 2,
   "id": "69795aff",
   "metadata": {},
   "outputs": [],
   "source": [
    "import pandas as pd\n",
    "import matplotlib.pyplot as plt\n",
    "import seaborn as sns\n",
    "pd.set_option('display.max_columns', None)\n",
    "%matplotlib inline\n"
   ]
  },
  {
   "cell_type": "code",
   "execution_count": 4,
   "id": "560da90b",
   "metadata": {},
   "outputs": [
    {
     "data": {
      "text/plain": [
       "(68271, 16)"
      ]
     },
     "execution_count": 4,
     "metadata": {},
     "output_type": "execute_result"
    }
   ],
   "source": [
    "df.shape"
   ]
  },
  {
   "cell_type": "code",
   "execution_count": 5,
   "id": "3241ccf6",
   "metadata": {},
   "outputs": [
    {
     "data": {
      "text/plain": [
       "Index(['Lead_ID', 'Name', 'Account_Party_Name', 'Main_Contact_Person_Name',\n",
       "       'Status_Text', 'Source_Text', 'Category_Text', 'Owner_Party_Name',\n",
       "       'Customer_Information_Country_Text', 'Contact_Information_Gender_Text',\n",
       "       'Lead_Life_Cycle_Status_Code_Text', 'Last_Changed_By', 'Continent',\n",
       "       'Channel_Text', 'ContactSource_Text', 'Priority_KUT_Text'],\n",
       "      dtype='object')"
      ]
     },
     "execution_count": 5,
     "metadata": {},
     "output_type": "execute_result"
    }
   ],
   "source": [
    "df.columns"
   ]
  },
  {
   "cell_type": "code",
   "execution_count": 6,
   "id": "825a382d",
   "metadata": {},
   "outputs": [],
   "source": [
    "from sklearn.model_selection import train_test_split\n",
    "\n",
    "df_sampled, _ = train_test_split(df, train_size=50000, stratify=df[\"Status_Text\"], random_state=42)\n"
   ]
  },
  {
   "cell_type": "code",
   "execution_count": 7,
   "id": "f256bc74",
   "metadata": {},
   "outputs": [
    {
     "data": {
      "text/plain": [
       "(50000, 16)"
      ]
     },
     "execution_count": 7,
     "metadata": {},
     "output_type": "execute_result"
    }
   ],
   "source": [
    "df_sampled.shape"
   ]
  },
  {
   "cell_type": "code",
   "execution_count": 8,
   "id": "e6c3daf1",
   "metadata": {},
   "outputs": [],
   "source": [
    "df_sampled.to_csv(\"df_sample.csv\", index=False)\n"
   ]
  },
  {
   "cell_type": "code",
   "execution_count": null,
   "id": "e0fd94cb",
   "metadata": {},
   "outputs": [],
   "source": []
  }
 ],
 "metadata": {
  "kernelspec": {
   "display_name": "Python 3",
   "language": "python",
   "name": "python3"
  },
  "language_info": {
   "codemirror_mode": {
    "name": "ipython",
    "version": 3
   },
   "file_extension": ".py",
   "mimetype": "text/x-python",
   "name": "python",
   "nbconvert_exporter": "python",
   "pygments_lexer": "ipython3",
   "version": "3.11.1"
  }
 },
 "nbformat": 4,
 "nbformat_minor": 5
}
