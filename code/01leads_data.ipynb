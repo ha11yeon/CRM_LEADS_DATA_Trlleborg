{
 "cells": [
  {
   "cell_type": "code",
   "execution_count": 4,
   "id": "eb14eaff",
   "metadata": {},
   "outputs": [],
   "source": [
    "import pandas as pd"
   ]
  },
  {
   "cell_type": "code",
   "execution_count": 6,
   "id": "97542473",
   "metadata": {},
   "outputs": [
    {
     "name": "stderr",
     "output_type": "stream",
     "text": [
      "C:\\Users\\ha\\AppData\\Local\\Temp\\ipykernel_21844\\2979783992.py:2: DtypeWarning: Columns (2,9,11,22,23,46,47,48,49,56,59,66,105,109,114,117,120,126,127,128,140,141,143,144,145,158,167,168,174,175,176,178,180) have mixed types. Specify dtype option on import or set low_memory=False.\n",
      "  leads_df = pd.read_csv(\"../data/leads.csv\")\n"
     ]
    },
    {
     "name": "stdout",
     "output_type": "stream",
     "text": [
      "(86244, 181)\n"
     ]
    }
   ],
   "source": [
    "# CSV 파일 경로 지정\n",
    "leads_df = pd.read_csv(\"../data/leads.csv\")\n",
    "\n",
    "# 데이터 확인\n",
    "print(leads_df.shape)"
   ]
  },
  {
   "cell_type": "code",
   "execution_count": 7,
   "id": "63c8be63",
   "metadata": {},
   "outputs": [
    {
     "name": "stdout",
     "output_type": "stream",
     "text": [
      "ContactMaritalStatusCodeText                    86243\n",
      "ContactAllowedCodeText                          86243\n",
      "Customer_Information_Contact_Permission         86243\n",
      "Customer_Information_Contact_Permission_Text    86243\n",
      "Contact_Information_Nickname                    86243\n",
      "                                                ...  \n",
      "Account_Information_Web_Site                        0\n",
      "Account_Information_EMail                           0\n",
      "ObjectID                                            0\n",
      "Account_Information_Fax                             0\n",
      "Account_Information_Mobile                          0\n",
      "Length: 181, dtype: int64\n"
     ]
    }
   ],
   "source": [
    "# null 개수를 기준으로 내림차순 정렬\n",
    "null_counts = leads_df.isnull().sum().sort_values(ascending=False)\n",
    "\n",
    "# 결과 출력\n",
    "print(null_counts)\n"
   ]
  },
  {
   "cell_type": "code",
   "execution_count": 8,
   "id": "3ca0b3f1",
   "metadata": {},
   "outputs": [
    {
     "name": "stdout",
     "output_type": "stream",
     "text": [
      "삭제 전 열 개수: 181\n",
      "삭제할 열 (80개): ['External_Key', 'Account_Party_External_Key', 'Main_Contact_Party_External_Key', 'Qualification_Level', 'Qualification_Level_Text', 'Reason_Code', 'Reason_Code_Text', 'Campaign_ID', 'Owner_Party_External_Key', 'Marketing_Unit_Party_ID', 'Marketing_Unit_Party_UUID', 'Marketing_Unit_Party_External_Key', 'Marketing_Unit_Name', 'Sales_Unit_Party_ID', 'Sales_Unit_Party_UUID', 'Sales_Unit_Name', 'Sales_Organization_ID', 'Sales_Organization_UUID', 'Sales_Organization_External_Key', 'Distribution_Channel', 'Distribution_Channel_Text', 'Division', 'Division_Text', 'Sales_Territory_ID', 'Sales_Territory_UUID', 'Sales_Territory_Name', 'Account_Information_Street', 'Customer_Information_City', 'Customer_Information_State', 'Customer_Information_State_Text', 'Account_Information_ABC_Classification', 'Account_Information_ABC_Classification_Text', 'Account_Information_DUNS', 'Customer_Information_Contact_Permission', 'Customer_Information_Contact_Permission_Text', 'Account_Information_Language', 'Account_Information_Language_Text', 'Account_Information_Note', 'Contact_Information_Title', 'Contact_Information_Title_Text', 'Contact_Information_Job_Title', 'ContactAcademicTitleCode', 'ContactAcademicTitleCodeText', 'Contact_Information_Nickname', 'Contact_Information_Language', 'Contact_Information_Language_Text', 'ContactMaritalStatusCode', 'ContactMaritalStatusCodeText', 'Contact_Information_Function', 'Contact_Information_Function_Text', 'Contact_Information_Department', 'Contact_Information_Department_Text', 'Contact_Information_Department_from_Business_Card', 'Contact_Information_VIP_Contact', 'Contact_Information_VIP_Contact_Text', 'ContactAllowedCode', 'ContactAllowedCodeText', 'Contact_Information_Note', 'Individual_Customer_Information_Gender', 'Individual_Customer_Information_Gender_Text', 'Individual_Customer_Information_EMail', 'Individual_Customer_Information_Title', 'Individual_Customer_Information_Title_Text', 'Individual_Customer_Information_Language', 'Individual_Customer_Information_Language_Text', 'External_ID', 'Marketing_Company', 'Marketing_Company_Text', 'Application', 'Application_Text', 'Business_Segment', 'Business_Segment_Text', 'External_Notes', 'Market_Segment', 'Market_Segment_Text', 'SEALS_TOTALcurrencyCode_KUT', 'SEALS_TOTALcurrencyCode_KUTText', 'Strategic_Indicator', 'Yearly_budget', 'Yearly_budget_Text']\n",
      "총 80개 열이 삭제됩니다.\n",
      "삭제 후 열 개수: 101\n"
     ]
    }
   ],
   "source": [
    "\n",
    "# 각 열의 null 개수 계산\n",
    "null_counts = leads_df.isnull().sum()\n",
    "\n",
    "# 70,000개 이상 null인 열 필터링\n",
    "cols_to_drop = null_counts[null_counts > 10000].index.tolist()\n",
    "\n",
    "# 삭제 전/후 열 개수 비교\n",
    "print(f\"삭제 전 열 개수: {leads_df.shape[1]}\")\n",
    "print(f\"삭제할 열 ({len(cols_to_drop)}개): {cols_to_drop}\")\n",
    "print(f\"총 {len(cols_to_drop)}개 열이 삭제됩니다.\")\n",
    "\n",
    "# 열 삭제\n",
    "df_cleaned = leads_df.drop(columns=cols_to_drop)\n",
    "\n",
    "# 삭제 후 열 개수\n",
    "print(f\"삭제 후 열 개수: {df_cleaned.shape[1]}\")"
   ]
  },
  {
   "cell_type": "code",
   "execution_count": 9,
   "id": "0eb89343",
   "metadata": {},
   "outputs": [
    {
     "name": "stdout",
     "output_type": "stream",
     "text": [
      "Note                                     8885\n",
      "Approval_Status_Text                     6156\n",
      "Approval_Status                          6156\n",
      "Channel_Text                             3660\n",
      "Channel                                  3660\n",
      "                                         ... \n",
      "Account_Information_Web_Site                0\n",
      "Account_Information_Latitude                0\n",
      "Account_Information_Latitude_UoM            0\n",
      "Account_Information_Latitude_UoM_Text       0\n",
      "Account_Information_Address_Line_2          0\n",
      "Length: 101, dtype: int64\n"
     ]
    }
   ],
   "source": [
    "# null 개수를 기준으로 내림차순 정렬\n",
    "null_counts = df_cleaned.isnull().sum().sort_values(ascending=False)\n",
    "\n",
    "# 결과 출력\n",
    "print(null_counts)\n"
   ]
  },
  {
   "cell_type": "code",
   "execution_count": 10,
   "id": "219540c8",
   "metadata": {},
   "outputs": [],
   "source": [
    "df_cleaned = df_cleaned.dropna(subset=['Note'])\n",
    "df_cleaned = df_cleaned.dropna(subset=['Approval_Status_Text'])\n",
    "df_cleaned = df_cleaned.dropna(subset=['Channel_Text'])"
   ]
  },
  {
   "cell_type": "code",
   "execution_count": 11,
   "id": "49b1dc7c",
   "metadata": {},
   "outputs": [],
   "source": [
    "df_cleaned = df_cleaned.dropna(subset=['Continent'])\n",
    "df_cleaned = df_cleaned.dropna(subset=['Customer_Information_Country'])\n",
    "df_cleaned = df_cleaned.dropna(subset=['Owner_Party_ID'])\n"
   ]
  },
  {
   "cell_type": "code",
   "execution_count": 12,
   "id": "81236c93",
   "metadata": {},
   "outputs": [],
   "source": [
    "df_cleaned = df_cleaned.dropna(subset=['Contact_Information_Gender_Text'])\n",
    "df_cleaned = df_cleaned.dropna(subset=['Main_Contact_Person_Status_Text'])\n"
   ]
  },
  {
   "cell_type": "code",
   "execution_count": 13,
   "id": "9731c0c8",
   "metadata": {},
   "outputs": [
    {
     "data": {
      "text/plain": [
       "(69646, 101)"
      ]
     },
     "execution_count": 13,
     "metadata": {},
     "output_type": "execute_result"
    }
   ],
   "source": [
    "df_cleaned = df_cleaned.dropna(subset=['Name'])\n",
    "df_cleaned = df_cleaned.dropna(subset=['Priority_KUT'])\n",
    "df_cleaned.shape"
   ]
  },
  {
   "cell_type": "code",
   "execution_count": null,
   "id": "8fd2e821",
   "metadata": {},
   "outputs": [
    {
     "data": {
      "text/html": [
       "<div>\n",
       "<style scoped>\n",
       "    .dataframe tbody tr th:only-of-type {\n",
       "        vertical-align: middle;\n",
       "    }\n",
       "\n",
       "    .dataframe tbody tr th {\n",
       "        vertical-align: top;\n",
       "    }\n",
       "\n",
       "    .dataframe thead th {\n",
       "        text-align: right;\n",
       "    }\n",
       "</style>\n",
       "<table border=\"1\" class=\"dataframe\">\n",
       "  <thead>\n",
       "    <tr style=\"text-align: right;\">\n",
       "      <th></th>\n",
       "      <th>ObjectID</th>\n",
       "      <th>Lead_ID</th>\n",
       "      <th>Name</th>\n",
       "      <th>Name_Language_Code</th>\n",
       "      <th>Name_Language_Code_Text</th>\n",
       "      <th>Account_Party_ID</th>\n",
       "      <th>Account_Party_UUID</th>\n",
       "      <th>Account_Party_Name</th>\n",
       "      <th>Main_Contact_ID</th>\n",
       "      <th>Main_Contact_UUID</th>\n",
       "      <th>...</th>\n",
       "      <th>Channel</th>\n",
       "      <th>Channel_Text</th>\n",
       "      <th>ContactSource</th>\n",
       "      <th>ContactSource_Text</th>\n",
       "      <th>DummySave</th>\n",
       "      <th>Priority_KUT</th>\n",
       "      <th>Priority_KUT_Text</th>\n",
       "      <th>Sealing_Demand_Amount__Currency</th>\n",
       "      <th>VAT_Number</th>\n",
       "      <th>Dummy_Save</th>\n",
       "    </tr>\n",
       "  </thead>\n",
       "  <tbody>\n",
       "    <tr>\n",
       "      <th>0</th>\n",
       "      <td>7916A100F2EC1EDE82EEECEAAF9DE336</td>\n",
       "      <td>99866.0</td>\n",
       "      <td>Member Registration Fluid Power Target Account</td>\n",
       "      <td>EN</td>\n",
       "      <td>English</td>\n",
       "      <td>78901</td>\n",
       "      <td>00163E1C-A7F7-1ED7-98F9-0A6990D3C559</td>\n",
       "      <td>Natalie Skinner</td>\n",
       "      <td>1465842.0</td>\n",
       "      <td>7916A100-F2EC-1EDE-82EE-ED027FCF833E</td>\n",
       "      <td>...</td>\n",
       "      <td>121.0</td>\n",
       "      <td>Web</td>\n",
       "      <td>Z32</td>\n",
       "      <td>Web Member Registration</td>\n",
       "      <td>False</td>\n",
       "      <td>121.0</td>\n",
       "      <td>Medium</td>\n",
       "      <td>0.0</td>\n",
       "      <td>True</td>\n",
       "      <td>False</td>\n",
       "    </tr>\n",
       "    <tr>\n",
       "      <th>1</th>\n",
       "      <td>7916A100F2EC1EDE82EEFF7365B0A7F5</td>\n",
       "      <td>99868.0</td>\n",
       "      <td>Web Request</td>\n",
       "      <td>EN</td>\n",
       "      <td>English</td>\n",
       "      <td>1465843</td>\n",
       "      <td>7916A100-F2EC-1EDE-82EE-FF7365B207F5</td>\n",
       "      <td>Laura Garcia</td>\n",
       "      <td>1465844.0</td>\n",
       "      <td>7916A100-F2EC-1EDE-82EE-FF7365BBC7F5</td>\n",
       "      <td>...</td>\n",
       "      <td>121.0</td>\n",
       "      <td>Web</td>\n",
       "      <td>Z04</td>\n",
       "      <td>Website Contact Form</td>\n",
       "      <td>False</td>\n",
       "      <td>131.0</td>\n",
       "      <td>High</td>\n",
       "      <td>0.0</td>\n",
       "      <td>False</td>\n",
       "      <td>False</td>\n",
       "    </tr>\n",
       "  </tbody>\n",
       "</table>\n",
       "<p>2 rows × 100 columns</p>\n",
       "</div>"
      ],
      "text/plain": [
       "                           ObjectID  Lead_ID  \\\n",
       "0  7916A100F2EC1EDE82EEECEAAF9DE336  99866.0   \n",
       "1  7916A100F2EC1EDE82EEFF7365B0A7F5  99868.0   \n",
       "\n",
       "                                             Name Name_Language_Code  \\\n",
       "0  Member Registration Fluid Power Target Account                 EN   \n",
       "1                                     Web Request                 EN   \n",
       "\n",
       "  Name_Language_Code_Text Account_Party_ID  \\\n",
       "0                 English            78901   \n",
       "1                 English          1465843   \n",
       "\n",
       "                     Account_Party_UUID Account_Party_Name Main_Contact_ID  \\\n",
       "0  00163E1C-A7F7-1ED7-98F9-0A6990D3C559    Natalie Skinner       1465842.0   \n",
       "1  7916A100-F2EC-1EDE-82EE-FF7365B207F5       Laura Garcia       1465844.0   \n",
       "\n",
       "                      Main_Contact_UUID  ... Channel  Channel_Text  \\\n",
       "0  7916A100-F2EC-1EDE-82EE-ED027FCF833E  ...   121.0           Web   \n",
       "1  7916A100-F2EC-1EDE-82EE-FF7365BBC7F5  ...   121.0           Web   \n",
       "\n",
       "   ContactSource       ContactSource_Text  DummySave  Priority_KUT  \\\n",
       "0            Z32  Web Member Registration      False         121.0   \n",
       "1            Z04     Website Contact Form      False         131.0   \n",
       "\n",
       "   Priority_KUT_Text  Sealing_Demand_Amount__Currency VAT_Number Dummy_Save  \n",
       "0             Medium                              0.0       True      False  \n",
       "1               High                              0.0      False      False  \n",
       "\n",
       "[2 rows x 100 columns]"
      ]
     },
     "execution_count": 67,
     "metadata": {},
     "output_type": "execute_result"
    }
   ],
   "source": [
    "df_cleaned.drop(columns=[\"Unnamed: 0\"], inplace= True)\n",
    "df_cleaned.head(2)\n"
   ]
  },
  {
   "cell_type": "code",
   "execution_count": 14,
   "id": "780fd285",
   "metadata": {},
   "outputs": [],
   "source": [
    "df_cleaned.drop(columns=[\"Note\"], inplace= True)\n",
    "\n",
    "#df_cleaned[[\"Status_Text\"]]"
   ]
  },
  {
   "cell_type": "code",
   "execution_count": 15,
   "id": "f4eceffc",
   "metadata": {},
   "outputs": [],
   "source": [
    "df_cleaned.to_csv(\"leads_df_cleaned.csv\", index=False)\n"
   ]
  },
  {
   "cell_type": "code",
   "execution_count": null,
   "id": "465ca8bb",
   "metadata": {},
   "outputs": [],
   "source": [
    "# Note 열만 Lead_ID와 함께 분리\n",
    "#note_df = df_cleaned[[\"ObjectID\",'Lead_ID',\"Name\", 'Note', 'Status_Text']].dropna(subset=['Note'])\n",
    "\n",
    "# CSV 저장\n",
    "#note_df.to_csv(\"notes_only.csv\", index=False)"
   ]
  },
  {
   "cell_type": "code",
   "execution_count": 75,
   "id": "93135884",
   "metadata": {},
   "outputs": [
    {
     "data": {
      "text/plain": [
       "(69646, 99)"
      ]
     },
     "execution_count": 75,
     "metadata": {},
     "output_type": "execute_result"
    }
   ],
   "source": [
    "df_cleaned.shape"
   ]
  }
 ],
 "metadata": {
  "kernelspec": {
   "display_name": "Python 3",
   "language": "python",
   "name": "python3"
  },
  "language_info": {
   "codemirror_mode": {
    "name": "ipython",
    "version": 3
   },
   "file_extension": ".py",
   "mimetype": "text/x-python",
   "name": "python",
   "nbconvert_exporter": "python",
   "pygments_lexer": "ipython3",
   "version": "3.11.1"
  }
 },
 "nbformat": 4,
 "nbformat_minor": 5
}
